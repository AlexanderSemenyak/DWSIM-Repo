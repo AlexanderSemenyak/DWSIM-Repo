{
 "cells": [
  {
   "attachments": {},
   "cell_type": "markdown",
   "metadata": {},
   "source": [
    "# 29 Introduction to Control Valve Sizing using Fluids Module\n",
    "---\n",
    "\n",
    "## Introduction 🌊\n",
    "\n",
    "## What is Fluids?\n",
    "Fluids is a free and open-source Python library used for scientific computing and technical computing.\n",
    "\n",
    "Fluids is open-source software for engineers and technicians working in the fields of chemical, mechanical, or civil engineering. It includes modules for piping, fittings, pumps, tanks, compressible flow, open-channel flow, atmospheric properties, solar properties, particle size distributions, two phase flow, friction factors, control valves, orifice plates and other flow meters, ejectors, relief valves, and more.\n"
   ]
  },
  {
   "cell_type": "code",
   "execution_count": 10,
   "metadata": {},
   "outputs": [
    {
     "data": {
      "text/html": [
       "<img src=\"29 Problem Statement.png\" width=\"300\" height=\"300\"/>"
      ],
      "text/plain": [
       "<IPython.core.display.Image object>"
      ]
     },
     "execution_count": 10,
     "metadata": {},
     "output_type": "execute_result"
    }
   ],
   "source": [
    "# import image module\n",
    "from IPython.display import Image\n",
    "\n",
    "# get the image\n",
    "Image(url=\"29 Problem Statement.png\", width=300, height=300)\n"
   ]
  },
  {
   "cell_type": "code",
   "execution_count": 11,
   "metadata": {},
   "outputs": [],
   "source": [
    "import fluids # Good practice\n",
    "from fluids import * # Bad practice but convenient\n",
    "from scipy.constants import *\n",
    "from fluids.control_valve import size_control_valve_l  \n",
    "from thermo.chemical import Chemical \n",
    "P1 = 300*psi + psi # to Pa \n",
    "P2 = 89.71*psi + psi # to Pa \n",
    "T = 273.15 + 121.11 # to K \n",
    "water = Chemical('water', P=(P1+P2)/2, T=T) \n",
    "rho = water.rho \n",
    "Psat = water.Psat \n",
    "Pc = water.Pc \n",
    "mu = water.mu \n",
    "Q = 500*gallon/minute # to m^3/s \n",
    "D1 = D2 = 8*inch # to m \n",
    "d = 4*inch # to m"
   ]
  },
  {
   "cell_type": "code",
   "execution_count": 12,
   "metadata": {},
   "outputs": [
    {
     "data": {
      "text/plain": [
       "29.01494398417784"
      ]
     },
     "execution_count": 12,
     "metadata": {},
     "output_type": "execute_result"
    }
   ],
   "source": [
    "Kv = size_control_valve_l(rho, Psat, Pc, mu, P1, P2, Q, D1, D2, d, FL=0.89, Fd=1)  \n",
    "Kv"
   ]
  },
  {
   "cell_type": "code",
   "execution_count": 13,
   "metadata": {},
   "outputs": [
    {
     "data": {
      "text/plain": [
       "33.54415435083257"
      ]
     },
     "execution_count": 13,
     "metadata": {},
     "output_type": "execute_result"
    }
   ],
   "source": [
    "Kv_to_Cv(Kv=Kv)"
   ]
  }
 ],
 "metadata": {
  "kernelspec": {
   "display_name": "Python 3",
   "language": "python",
   "name": "python3"
  },
  "language_info": {
   "codemirror_mode": {
    "name": "ipython",
    "version": 3
   },
   "file_extension": ".py",
   "mimetype": "text/x-python",
   "name": "python",
   "nbconvert_exporter": "python",
   "pygments_lexer": "ipython3",
   "version": "3.9.2"
  },
  "orig_nbformat": 4,
  "vscode": {
   "interpreter": {
    "hash": "04d3f64a3b4064fd924ec1789481681d8cf614ac32e465ddc035ca363d369555"
   }
  }
 },
 "nbformat": 4,
 "nbformat_minor": 2
}
