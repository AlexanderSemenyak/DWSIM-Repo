{
 "cells": [
  {
   "cell_type": "code",
   "execution_count": 4,
   "metadata": {},
   "outputs": [],
   "source": [
    "import OpenOPC"
   ]
  },
  {
   "cell_type": "code",
   "execution_count": 5,
   "metadata": {},
   "outputs": [],
   "source": [
    "opc = OpenOPC.client()"
   ]
  },
  {
   "cell_type": "code",
   "execution_count": 6,
   "metadata": {},
   "outputs": [
    {
     "ename": "CommunicationError",
     "evalue": "cannot connect to ('localhost', 7766): [WinError 10061] No connection could be made because the target machine actively refused it",
     "output_type": "error",
     "traceback": [
      "\u001b[1;31m---------------------------------------------------------------------------\u001b[0m",
      "\u001b[1;31mConnectionRefusedError\u001b[0m                    Traceback (most recent call last)",
      "File \u001b[1;32mc:\\Users\\viraj\\AppData\\Local\\Programs\\Python\\Python311\\Lib\\site-packages\\Pyro5\\client.py:310\u001b[0m, in \u001b[0;36mProxy.__pyroCreateConnection.<locals>.connect_and_handshake\u001b[1;34m(conn)\u001b[0m\n\u001b[0;32m    309\u001b[0m     sslContext \u001b[38;5;241m=\u001b[39m \u001b[38;5;28;01mNone\u001b[39;00m\n\u001b[1;32m--> 310\u001b[0m sock \u001b[38;5;241m=\u001b[39m \u001b[43msocketutil\u001b[49m\u001b[38;5;241;43m.\u001b[39;49m\u001b[43mcreate_socket\u001b[49m\u001b[43m(\u001b[49m\u001b[43mconnect\u001b[49m\u001b[38;5;241;43m=\u001b[39;49m\u001b[43mconnect_location\u001b[49m\u001b[43m,\u001b[49m\n\u001b[0;32m    311\u001b[0m \u001b[43m                                \u001b[49m\u001b[43mreuseaddr\u001b[49m\u001b[38;5;241;43m=\u001b[39;49m\u001b[43mconfig\u001b[49m\u001b[38;5;241;43m.\u001b[39;49m\u001b[43mSOCK_REUSE\u001b[49m\u001b[43m,\u001b[49m\n\u001b[0;32m    312\u001b[0m \u001b[43m                                \u001b[49m\u001b[43mtimeout\u001b[49m\u001b[38;5;241;43m=\u001b[39;49m\u001b[38;5;28;43mself\u001b[39;49m\u001b[38;5;241;43m.\u001b[39;49m\u001b[43m__pyroTimeout\u001b[49m\u001b[43m,\u001b[49m\n\u001b[0;32m    313\u001b[0m \u001b[43m                                \u001b[49m\u001b[43mnodelay\u001b[49m\u001b[38;5;241;43m=\u001b[39;49m\u001b[43mconfig\u001b[49m\u001b[38;5;241;43m.\u001b[39;49m\u001b[43mSOCK_NODELAY\u001b[49m\u001b[43m,\u001b[49m\n\u001b[0;32m    314\u001b[0m \u001b[43m                                \u001b[49m\u001b[43msslContext\u001b[49m\u001b[38;5;241;43m=\u001b[39;49m\u001b[43msslContext\u001b[49m\u001b[43m)\u001b[49m\n\u001b[0;32m    315\u001b[0m conn \u001b[38;5;241m=\u001b[39m socketutil\u001b[38;5;241m.\u001b[39mSocketConnection(sock, uri\u001b[38;5;241m.\u001b[39mobject)\n",
      "File \u001b[1;32mc:\\Users\\viraj\\AppData\\Local\\Programs\\Python\\Python311\\Lib\\site-packages\\Pyro5\\socketutil.py:283\u001b[0m, in \u001b[0;36mcreate_socket\u001b[1;34m(bind, connect, reuseaddr, keepalive, timeout, noinherit, ipv6, nodelay, sslContext)\u001b[0m\n\u001b[0;32m    282\u001b[0m \u001b[38;5;28;01mtry\u001b[39;00m:\n\u001b[1;32m--> 283\u001b[0m     \u001b[43msock\u001b[49m\u001b[38;5;241;43m.\u001b[39;49m\u001b[43mconnect\u001b[49m\u001b[43m(\u001b[49m\u001b[43mconnect\u001b[49m\u001b[43m)\u001b[49m\n\u001b[0;32m    284\u001b[0m \u001b[38;5;28;01mexcept\u001b[39;00m socket\u001b[38;5;241m.\u001b[39merror \u001b[38;5;28;01mas\u001b[39;00m xv:\n\u001b[0;32m    285\u001b[0m     \u001b[38;5;66;03m# This can happen when the socket is in non-blocking mode (or has a timeout configured).\u001b[39;00m\n\u001b[0;32m    286\u001b[0m     \u001b[38;5;66;03m# We check if it is a retryable errno (usually EINPROGRESS).\u001b[39;00m\n\u001b[0;32m    287\u001b[0m     \u001b[38;5;66;03m# If so, we use select() to wait until the socket is in writable state,\u001b[39;00m\n\u001b[0;32m    288\u001b[0m     \u001b[38;5;66;03m# essentially rebuilding a blocking connect() call.\u001b[39;00m\n",
      "\u001b[1;31mConnectionRefusedError\u001b[0m: [WinError 10061] No connection could be made because the target machine actively refused it",
      "\nThe above exception was the direct cause of the following exception:\n",
      "\u001b[1;31mCommunicationError\u001b[0m                        Traceback (most recent call last)",
      "Cell \u001b[1;32mIn[6], line 1\u001b[0m\n\u001b[1;32m----> 1\u001b[0m opc \u001b[38;5;241m=\u001b[39m \u001b[43mOpenOPC\u001b[49m\u001b[38;5;241;43m.\u001b[39;49m\u001b[43mopen_client\u001b[49m\u001b[43m(\u001b[49m\u001b[38;5;124;43m'\u001b[39;49m\u001b[38;5;124;43mlocalhost\u001b[39;49m\u001b[38;5;124;43m'\u001b[39;49m\u001b[43m)\u001b[49m\n",
      "File \u001b[1;32mc:\\Users\\viraj\\AppData\\Local\\Programs\\Python\\Python311\\Lib\\site-packages\\OpenOPC\\__init__.py:43\u001b[0m, in \u001b[0;36mopen_client\u001b[1;34m(host, port)\u001b[0m\n\u001b[0;32m     41\u001b[0m \u001b[38;5;28;01mimport\u001b[39;00m \u001b[38;5;21;01mPyro5\u001b[39;00m\u001b[38;5;21;01m.\u001b[39;00m\u001b[38;5;21;01mclient\u001b[39;00m\n\u001b[0;32m     42\u001b[0m server_obj \u001b[38;5;241m=\u001b[39m Pyro5\u001b[38;5;241m.\u001b[39mclient\u001b[38;5;241m.\u001b[39mProxy(\u001b[38;5;124m\"\u001b[39m\u001b[38;5;124mPYRO:opc@\u001b[39m\u001b[38;5;132;01m{0}\u001b[39;00m\u001b[38;5;124m:\u001b[39m\u001b[38;5;132;01m{1}\u001b[39;00m\u001b[38;5;124m\"\u001b[39m\u001b[38;5;241m.\u001b[39mformat(host, port))\n\u001b[1;32m---> 43\u001b[0m \u001b[38;5;28;01mreturn\u001b[39;00m \u001b[43mserver_obj\u001b[49m\u001b[38;5;241;43m.\u001b[39;49m\u001b[43mcreate_client\u001b[49m()\n",
      "File \u001b[1;32mc:\\Users\\viraj\\AppData\\Local\\Programs\\Python\\Python311\\Lib\\site-packages\\Pyro5\\client.py:101\u001b[0m, in \u001b[0;36mProxy.__getattr__\u001b[1;34m(self, name)\u001b[0m\n\u001b[0;32m     99\u001b[0m \u001b[38;5;66;03m# get metadata if it's not there yet\u001b[39;00m\n\u001b[0;32m    100\u001b[0m \u001b[38;5;28;01mif\u001b[39;00m \u001b[38;5;129;01mnot\u001b[39;00m \u001b[38;5;28mself\u001b[39m\u001b[38;5;241m.\u001b[39m_pyroMethods \u001b[38;5;129;01mand\u001b[39;00m \u001b[38;5;129;01mnot\u001b[39;00m \u001b[38;5;28mself\u001b[39m\u001b[38;5;241m.\u001b[39m_pyroAttrs:\n\u001b[1;32m--> 101\u001b[0m     \u001b[38;5;28;43mself\u001b[39;49m\u001b[38;5;241;43m.\u001b[39;49m\u001b[43m_pyroGetMetadata\u001b[49m\u001b[43m(\u001b[49m\u001b[43m)\u001b[49m\n\u001b[0;32m    102\u001b[0m \u001b[38;5;28;01mif\u001b[39;00m name \u001b[38;5;129;01min\u001b[39;00m \u001b[38;5;28mself\u001b[39m\u001b[38;5;241m.\u001b[39m_pyroAttrs:\n\u001b[0;32m    103\u001b[0m     \u001b[38;5;28;01mreturn\u001b[39;00m \u001b[38;5;28mself\u001b[39m\u001b[38;5;241m.\u001b[39m_pyroInvoke(\u001b[38;5;124m\"\u001b[39m\u001b[38;5;124m__getattr__\u001b[39m\u001b[38;5;124m\"\u001b[39m, (name,), \u001b[38;5;28;01mNone\u001b[39;00m)\n",
      "File \u001b[1;32mc:\\Users\\viraj\\AppData\\Local\\Programs\\Python\\Python311\\Lib\\site-packages\\Pyro5\\client.py:392\u001b[0m, in \u001b[0;36mProxy._pyroGetMetadata\u001b[1;34m(self, objectId, known_metadata)\u001b[0m\n\u001b[0;32m    390\u001b[0m \u001b[38;5;28;01mif\u001b[39;00m \u001b[38;5;28mself\u001b[39m\u001b[38;5;241m.\u001b[39m_pyroConnection \u001b[38;5;129;01mis\u001b[39;00m \u001b[38;5;28;01mNone\u001b[39;00m \u001b[38;5;129;01mand\u001b[39;00m \u001b[38;5;129;01mnot\u001b[39;00m known_metadata:\n\u001b[0;32m    391\u001b[0m     \u001b[38;5;28;01mtry\u001b[39;00m:\n\u001b[1;32m--> 392\u001b[0m         \u001b[38;5;28;43mself\u001b[39;49m\u001b[38;5;241;43m.\u001b[39;49m\u001b[43m__pyroCreateConnection\u001b[49m\u001b[43m(\u001b[49m\u001b[43m)\u001b[49m\n\u001b[0;32m    393\u001b[0m     \u001b[38;5;28;01mexcept\u001b[39;00m errors\u001b[38;5;241m.\u001b[39mPyroError:\n\u001b[0;32m    394\u001b[0m         log\u001b[38;5;241m.\u001b[39merror(\u001b[38;5;124m\"\u001b[39m\u001b[38;5;124mproblem getting metadata: cannot connect\u001b[39m\u001b[38;5;124m\"\u001b[39m)\n",
      "File \u001b[1;32mc:\\Users\\viraj\\AppData\\Local\\Programs\\Python\\Python311\\Lib\\site-packages\\Pyro5\\client.py:376\u001b[0m, in \u001b[0;36mProxy.__pyroCreateConnection\u001b[1;34m(self, replaceUri, connected_socket)\u001b[0m\n\u001b[0;32m    374\u001b[0m     \u001b[38;5;28mself\u001b[39m\u001b[38;5;241m.\u001b[39m_pyroLocalSocket \u001b[38;5;241m=\u001b[39m connected_socket\u001b[38;5;241m.\u001b[39mgetsockname()\n\u001b[0;32m    375\u001b[0m \u001b[38;5;28;01melse\u001b[39;00m:\n\u001b[1;32m--> 376\u001b[0m     \u001b[43mconnect_and_handshake\u001b[49m\u001b[43m(\u001b[49m\u001b[43mconn\u001b[49m\u001b[43m)\u001b[49m\n\u001b[0;32m    377\u001b[0m \u001b[38;5;66;03m# obtain metadata if this feature is enabled, and the metadata is not known yet\u001b[39;00m\n\u001b[0;32m    378\u001b[0m \u001b[38;5;28;01mif\u001b[39;00m \u001b[38;5;129;01mnot\u001b[39;00m \u001b[38;5;28mself\u001b[39m\u001b[38;5;241m.\u001b[39m_pyroMethods \u001b[38;5;129;01mand\u001b[39;00m \u001b[38;5;129;01mnot\u001b[39;00m \u001b[38;5;28mself\u001b[39m\u001b[38;5;241m.\u001b[39m_pyroAttrs:\n",
      "File \u001b[1;32mc:\\Users\\viraj\\AppData\\Local\\Programs\\Python\\Python311\\Lib\\site-packages\\Pyro5\\client.py:336\u001b[0m, in \u001b[0;36mProxy.__pyroCreateConnection.<locals>.connect_and_handshake\u001b[1;34m(conn)\u001b[0m\n\u001b[0;32m    334\u001b[0m         \u001b[38;5;28;01mraise\u001b[39;00m\n\u001b[0;32m    335\u001b[0m     \u001b[38;5;28;01melse\u001b[39;00m:\n\u001b[1;32m--> 336\u001b[0m         \u001b[38;5;28;01mraise\u001b[39;00m errors\u001b[38;5;241m.\u001b[39mCommunicationError(err) \u001b[38;5;28;01mfrom\u001b[39;00m \u001b[38;5;21;01mx\u001b[39;00m\n\u001b[0;32m    337\u001b[0m \u001b[38;5;28;01melse\u001b[39;00m:\n\u001b[0;32m    338\u001b[0m     handshake_response \u001b[38;5;241m=\u001b[39m \u001b[38;5;124m\"\u001b[39m\u001b[38;5;124m?\u001b[39m\u001b[38;5;124m\"\u001b[39m\n",
      "\u001b[1;31mCommunicationError\u001b[0m: cannot connect to ('localhost', 7766): [WinError 10061] No connection could be made because the target machine actively refused it"
     ]
    }
   ],
   "source": [
    "opc = OpenOPC.open_client('localhost')"
   ]
  },
  {
   "cell_type": "code",
   "execution_count": null,
   "metadata": {},
   "outputs": [],
   "source": []
  }
 ],
 "metadata": {
  "kernelspec": {
   "display_name": "Python 3",
   "language": "python",
   "name": "python3"
  },
  "language_info": {
   "codemirror_mode": {
    "name": "ipython",
    "version": 3
   },
   "file_extension": ".py",
   "mimetype": "text/x-python",
   "name": "python",
   "nbconvert_exporter": "python",
   "pygments_lexer": "ipython3",
   "version": "3.11.2"
  }
 },
 "nbformat": 4,
 "nbformat_minor": 2
}
