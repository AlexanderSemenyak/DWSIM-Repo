{
 "cells": [
  {
   "attachments": {},
   "cell_type": "markdown",
   "metadata": {},
   "source": [
    "### Design an orifce meter based on the following data:\n",
    "\n",
    "- Name of ﬂuid = Water\n",
    "\n",
    "- Flow rate = 100 000 kg/h\n",
    "\n",
    "- Inside diameter of pipe = 154 mm (6 in, SCH-40 pipe)\n",
    "\n",
    "- Operating temperature = 32°C\n",
    "\n",
    "- Density of water at 32°C = 995.026 kg/m3\n",
    "\n",
    "- Viscosity of water at 32°C = 0.765 mPa.s or cP"
   ]
  },
  {
   "cell_type": "code",
   "execution_count": 129,
   "metadata": {},
   "outputs": [],
   "source": [
    "import numpy as np\n",
    "import matplotlib.pyplot as plt\n",
    "import math as math"
   ]
  },
  {
   "cell_type": "code",
   "execution_count": 130,
   "metadata": {},
   "outputs": [],
   "source": [
    "Mass_flow_of_Water = 100000 #here data is in kg/h\n",
    "Viscosity = 0.765*(10**-3) #here data is in cP\n",
    "Y = 1 #expansion factor for liquids\n",
    "Density_of_water  = 995.026 # density of water in kg/m3"
   ]
  },
  {
   "cell_type": "code",
   "execution_count": 131,
   "metadata": {},
   "outputs": [
    {
     "data": {
      "text/plain": [
       "0.004656625710783471"
      ]
     },
     "execution_count": 131,
     "metadata": {},
     "output_type": "execute_result"
    }
   ],
   "source": [
    "Inside_dia_of_pipe = 154 #here data is in mm\n",
    "Beta = 0.5 # Assuming a beta\n",
    "Dia_of_orifice = Beta*Inside_dia_of_pipe\n",
    "Area_of_orifice = (math.pi/4)* np.square(Dia_of_orifice*10**-3)\n",
    "Dia_of_orifice\n",
    "Area_of_orifice"
   ]
  },
  {
   "cell_type": "code",
   "execution_count": 132,
   "metadata": {},
   "outputs": [
    {
     "data": {
      "text/plain": [
       "300210.21247374837"
      ]
     },
     "execution_count": 132,
     "metadata": {},
     "output_type": "execute_result"
    }
   ],
   "source": [
    "Reynolds = (4*Mass_flow_of_Water/3600)/(math.pi*Inside_dia_of_pipe*10**-3*Viscosity)\n",
    "Reynolds"
   ]
  },
  {
   "attachments": {},
   "cell_type": "markdown",
   "metadata": {},
   "source": [
    "> *Use square edged circular oriﬁ ce plate with radius taps.*\n",
    "\n",
    "Radius taps are best from practical stand point. In radius taps, downstream tap is located approximately at the mean location of vena contracta (1/2 times pipe diameter) and also upstream tap is sufﬁ ciently far so that it is not affected by distortion of ﬂow in the vicinity of oriﬁce.\n",
    "\n",
    "**Based on Stolz's equation,**"
   ]
  },
  {
   "cell_type": "code",
   "execution_count": 133,
   "metadata": {},
   "outputs": [],
   "source": [
    "L1 = 1\n",
    "L2 = 1"
   ]
  },
  {
   "cell_type": "code",
   "execution_count": 134,
   "metadata": {},
   "outputs": [
    {
     "data": {
      "text/plain": [
       "0.6055104272370424"
      ]
     },
     "execution_count": 134,
     "metadata": {},
     "output_type": "execute_result"
    }
   ],
   "source": [
    "Co = (0.5959) + (0.0312*Beta**2.1) - (0.184*Beta**8) + (0.0029*Beta**2.5*(10**6/Reynolds)**0.75) + (0.09*L1*Beta**4)*((1-(Beta**4))**-1) - (0.0337*L2*(Beta**3))\n",
    "Co"
   ]
  },
  {
   "cell_type": "code",
   "execution_count": 135,
   "metadata": {},
   "outputs": [
    {
     "data": {
      "text/plain": [
       "45721.02247357041"
      ]
     },
     "execution_count": 135,
     "metadata": {},
     "output_type": "execute_result"
    }
   ],
   "source": [
    "Pressure_drop_across_orifice = np.square((Mass_flow_of_Water/3600) / (Co * Y * Area_of_orifice)) / (2*1*Density_of_water) *  (1-Beta**4)\n",
    "\n",
    "Pressure_drop_across_orifice"
   ]
  },
  {
   "cell_type": "code",
   "execution_count": 136,
   "metadata": {},
   "outputs": [
    {
     "name": "stderr",
     "output_type": "stream",
     "text": [
      "C:\\Users\\viraj\\AppData\\Local\\Temp/ipykernel_6412/1517132235.py:11: RuntimeWarning: divide by zero encountered in reciprocal\n",
      "  Co = (0.5959) + (0.0312*Beta**2.1) - (0.184*Beta**8) + (0.0029*Beta**2.5*(10**6/Reynolds)**0.75) + (0.09*L1*Beta**4*(1-Beta**4)**-1) - (0.0337*L2*Beta**3)\n"
     ]
    },
    {
     "data": {
      "text/plain": [
       "array([46363.88001419, 37102.09949895, 29900.48618514, 24234.62667058,\n",
       "       19729.31457817, 16111.84208662, 13181.0819886 , 10786.6411413 ,\n",
       "        8814.56469964,  7177.38038072,  5807.07255946,  4650.08204743,\n",
       "        3663.76937607,  2814.05216126,  2074.23277692,  1425.53999924,\n",
       "         860.92807934,   395.4013143 ,    84.42244572,     0.        ])"
      ]
     },
     "execution_count": 136,
     "metadata": {},
     "output_type": "execute_result"
    }
   ],
   "source": [
    "Inside_dia_of_pipe = 154 #here data is in mm\n",
    "Beta = np.linspace(0.5,1,20) # Assuming a beta\n",
    "Dia_of_orifice = Beta*Inside_dia_of_pipe\n",
    "Area_of_orifice = (math.pi/4)* np.square(Dia_of_orifice*10**-3)\n",
    "Dia_of_orifice\n",
    "Area_of_orifice\n",
    "Reynolds = (4*Mass_flow_of_Water/3600)/(math.pi*Inside_dia_of_pipe*10**-3*Viscosity)\n",
    "Reynolds\n",
    "L1 = 1\n",
    "L2 = 2\n",
    "Co = (0.5959) + (0.0312*Beta**2.1) - (0.184*Beta**8) + (0.0029*Beta**2.5*(10**6/Reynolds)**0.75) + (0.09*L1*Beta**4*(1-Beta**4)**-1) - (0.0337*L2*Beta**3)\n",
    "Co\n",
    "Pressure_drop_across_orifice = np.square((Mass_flow_of_Water/3600) / (Co * Y * Area_of_orifice)) / (2*1*Density_of_water) *  (1-Beta**4)\n",
    "Pressure_drop_across_orifice"
   ]
  },
  {
   "cell_type": "code",
   "execution_count": 137,
   "metadata": {},
   "outputs": [
    {
     "data": {
      "image/png": "[encoded data removed]",
      "text/plain": [
       "<Figure size 432x288 with 1 Axes>"
      ]
     },
     "metadata": {
      "needs_background": "light"
     },
     "output_type": "display_data"
    }
   ],
   "source": [
    "plt.plot(Dia_of_orifice,Pressure_drop_across_orifice,'+--') #Ploting the data\n",
    "plt.xlabel('Diameter of orifice in mm',fontsize=15) #Labeling X axis\n",
    "plt.ylabel('Pressure dorp across orifice in Pa',fontsize=15) #Labeling Y axis\n",
    "plt.grid() #Grid on\n",
    "plt.show() #Used to plot"
   ]
  }
 ],
 "metadata": {
  "kernelspec": {
   "display_name": "Python 3",
   "language": "python",
   "name": "python3"
  },
  "language_info": {
   "codemirror_mode": {
    "name": "ipython",
    "version": 3
   },
   "file_extension": ".py",
   "mimetype": "text/x-python",
   "name": "python",
   "nbconvert_exporter": "python",
   "pygments_lexer": "ipython3",
   "version": "3.9.2"
  },
  "orig_nbformat": 4,
  "vscode": {
   "interpreter": {
    "hash": "04d3f64a3b4064fd924ec1789481681d8cf614ac32e465ddc035ca363d369555"
   }
  }
 },
 "nbformat": 4,
 "nbformat_minor": 2
}
