{
 "cells": [
  {
   "cell_type": "markdown",
   "metadata": {},
   "source": [
    "# 24 Solving Using Python Fluids\n",
    "---\n",
    "\n",
    "## Introduction 🌊\n",
    "\n",
    "## What is Fluids?\n",
    "[![Fluids](https://img.shields.io/badge/Fluids-8CAAE6?style=flat&logo=Fluids&logoColor=black)](https://pypi.org/project/fluids/) is a free and open-source Python library used for scientific computing and technical computing.\n",
    "\n",
    "Fluids is open-source software for engineers and technicians working in the fields of chemical, mechanical, or civil engineering. It includes modules for piping, fittings, pumps, tanks, compressible flow, open-channel flow, atmospheric properties, solar properties, particle size distributions, two phase flow, friction factors, control valves, orifice plates and other flow meters, ejectors, relief valves, and more.\n",
    "\n",
    "The fluids library is designed to be a low-overhead, lightweight repository of engineering knowledge and utilities that relate to fluid dynamics.\n",
    "\n",
    "Fluids was originally tightly integrated with SciPy and NumPy; today they are optional components used for only a small amount of functionality which do not have pure-Python numerical methods implemented. Fluids targets Python 2.7 and up as well as PyPy2 and PyPy3. Additionally, fluids has been tested by the author to load in IronPython, Jython, and micropython.\n",
    "\n",
    "While the routines in Fluids are normally quite fast and as efficiently coded as possible, depending on the application there can still be a need for further speed. PyPy provides a substantial speed boost of 6-12 times for most methods. Fluids also supports Numba, a powerful accelerator that works well with NumPy. The Numba interface to fluids also makes it easy to multithread execution as well, avoiding Python GIL issue.\n",
    "\n",
    "Fluids runs on all operating systems which support Python, is quick to install, and is free of charge. Fluids is designed to be easy to use while still providing powerful functionality. If you need to perform some fluid dynamics calculations, give fluids a try."
   ]
  },
  {
   "cell_type": "code",
   "execution_count": 1,
   "metadata": {},
   "outputs": [
    {
     "data": {
      "text/html": [
       "<img src=\"24 Line Hydraulic.png\"/>"
      ],
      "text/plain": [
       "<IPython.core.display.Image object>"
      ]
     },
     "execution_count": 1,
     "metadata": {},
     "output_type": "execute_result"
    }
   ],
   "source": [
    "from IPython.display import Image\n",
    "Image(url='24 Line Hydraulic.png')"
   ]
  },
  {
   "cell_type": "code",
   "execution_count": 2,
   "metadata": {},
   "outputs": [],
   "source": [
    "import fluids #Importing fluids \n",
    "import math #Importing mathematics \n",
    "import thermo #Importing thermodynamics for properties\n",
    "from fluids.units import  * # * means all fxn are now imported\n",
    "from thermo.units import Stream # stream\n",
    "from math import * # * means all fxn are now imported\n",
    "from fluids.constants import g"
   ]
  },
  {
   "cell_type": "markdown",
   "metadata": {},
   "source": [
    "## Problem Statement\n",
    "\n",
    "Calculate pressure drop for water service to supply 3600 kg/hr pressure of 2 barg and temperature of 25 °C\n",
    "\n",
    "Consider line length as 575 m\n",
    "\n",
    "Consider 4 Nos 90 ° elbows\n",
    "\n",
    "Consider 40 pipe schedule\n"
   ]
  },
  {
   "cell_type": "code",
   "execution_count": 3,
   "metadata": {},
   "outputs": [
    {
     "name": "stdout",
     "output_type": "stream",
     "text": [
      "Density = 997.058312133483 kilogram / meter ** 3\n",
      "Viscosity = 0.0009125307951858123 pascal * second\n"
     ]
    }
   ],
   "source": [
    "m = 3600*u.kg/u.hr\n",
    "T = 25*u.degC\n",
    "P = 2*u.bar + 1*u.atmosphere\n",
    "L = 575*u.m\n",
    "dh = 15*u.m\n",
    "g = g*u.m/u.s**2\n",
    "\n",
    "Water = Stream('Water', T=T, P=P, m=m)\n",
    "\n",
    "rho = Water.rho\n",
    "mu = Water.mu\n",
    "print('Density = %s' %rho)\n",
    "print('Viscosity = %s' %mu)"
   ]
  },
  {
   "cell_type": "code",
   "execution_count": 4,
   "metadata": {},
   "outputs": [
    {
     "name": "stdout",
     "output_type": "stream",
     "text": [
      "Pressure drop = 1.4668452605061053 bar\n"
     ]
    }
   ],
   "source": [
    "NPS, D_pipe, Do_pipe, t = nearest_pipe(Do=4*u.inch, schedule='40')\n",
    "Q = m/rho\n",
    "v = Q/(pi/4*D_pipe**2)\n",
    "Re = Reynolds(rho=rho, mu=mu, D=D_pipe, V=v)\n",
    "fd = friction_factor(Re=Re, eD=0.0018*u.inch/D_pipe)\n",
    "K_elbow = bend_rounded(Di=D_pipe, angle=90*u.degrees, fd=fd)\n",
    "\n",
    "K_tot = 4*K_elbow\n",
    "dP = dP_from_K(K=K_tot, rho=rho, V=v) +rho*g*dh\n",
    "print('Pressure drop = %s' %dP.to(u.bar))"
   ]
  }
 ],
 "metadata": {
  "kernelspec": {
   "display_name": "Python 3.9.2 64-bit",
   "language": "python",
   "name": "python3"
  },
  "language_info": {
   "codemirror_mode": {
    "name": "ipython",
    "version": 3
   },
   "file_extension": ".py",
   "mimetype": "text/x-python",
   "name": "python",
   "nbconvert_exporter": "python",
   "pygments_lexer": "ipython3",
   "version": "3.9.2"
  },
  "vscode": {
   "interpreter": {
    "hash": "04d3f64a3b4064fd924ec1789481681d8cf614ac32e465ddc035ca363d369555"
   }
  }
 },
 "nbformat": 4,
 "nbformat_minor": 4
}
